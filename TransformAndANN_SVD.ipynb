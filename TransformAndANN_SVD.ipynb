{
  "cells": [
    {
      "cell_type": "code",
      "execution_count": null,
      "id": "90743012-1f2d-4fb2-b9c6-4111c6ab0bed",
      "metadata": {
        "id": "90743012-1f2d-4fb2-b9c6-4111c6ab0bed"
      },
      "outputs": [],
      "source": [
        "import os\n",
        "import torch\n",
        "from torch import nn\n",
        "from torch.utils.data import DataLoader\n",
        "from torchaudio import load, transforms\n",
        "from scipy.io import wavfile\n",
        "import matplotlib.pyplot as plt\n",
        "import librosa\n",
        "import numpy as np\n",
        "\n",
        "import torch.nn as nn\n",
        "import torch.nn.functional as F\n",
        "import torch.optim as optim\n",
        "import torchaudio\n",
        "import sys\n",
        "\n",
        "import IPython.display as ipd\n",
        "import csv"
      ]
    },
    {
      "cell_type": "code",
      "execution_count": null,
      "id": "9a751e3c-787f-47e4-a4c3-5f85ee145098",
      "metadata": {
        "id": "9a751e3c-787f-47e4-a4c3-5f85ee145098",
        "outputId": "f88a7220-0994-442d-83cf-1669c5e19f29"
      },
      "outputs": [
        {
          "data": {
            "text/plain": [
              "11"
            ]
          },
          "execution_count": 2,
          "metadata": {},
          "output_type": "execute_result"
        }
      ],
      "source": [
        "f = open('./DataANN+MFCC+SVD_loss.csv', 'w')\n",
        "ff = open('./DataANN+MFCC+SVD_acc.csv', 'w')\n",
        "\n",
        "# create the csv writer\n",
        "lossLog = csv.writer(f)\n",
        "accLog = csv.writer(ff)\n",
        "\n",
        "# write a row to the csv file\n",
        "lossLog.writerow([\"epoch\", \"loss\"])\n",
        "accLog.writerow([\"epoch\", \"acc\"])\n"
      ]
    },
    {
      "cell_type": "code",
      "execution_count": null,
      "id": "5bf7e023-1bf5-4a29-b603-3c34f061fd13",
      "metadata": {
        "id": "5bf7e023-1bf5-4a29-b603-3c34f061fd13",
        "outputId": "8ff497b6-3565-4448-97de-59e2457f405d"
      },
      "outputs": [
        {
          "name": "stdout",
          "output_type": "stream",
          "text": [
            "Using cuda device\n"
          ]
        }
      ],
      "source": [
        "device = (\n",
        "    \"cuda\"\n",
        "    if torch.cuda.is_available()\n",
        "    else \"mps\"\n",
        "    if torch.backends.mps.is_available()\n",
        "    else \"cpu\"\n",
        ")\n",
        "print(f\"Using {device} device\")"
      ]
    },
    {
      "cell_type": "code",
      "execution_count": null,
      "id": "f232526e-26b6-4093-bd00-20b7d542ee3c",
      "metadata": {
        "id": "f232526e-26b6-4093-bd00-20b7d542ee3c"
      },
      "outputs": [],
      "source": [
        "# IMPORT DATASET\n",
        "from torchaudio.datasets import SPEECHCOMMANDS\n",
        "import os\n",
        "\n",
        "\n",
        "class SubsetSC(SPEECHCOMMANDS):\n",
        "    def __init__(self, subset: str = None):\n",
        "        super().__init__(\"./\", download=True)\n",
        "\n",
        "        def load_list(filename):\n",
        "            filepath = os.path.join(self._path, filename)\n",
        "            with open(filepath) as fileobj:\n",
        "                return [os.path.normpath(os.path.join(self._path, line.strip())) for line in fileobj]\n",
        "\n",
        "        if subset == \"validation\":\n",
        "            self._walker = load_list(\"validation_list.txt\")\n",
        "        elif subset == \"testing\":\n",
        "            self._walker = load_list(\"testing_list.txt\")\n",
        "        elif subset == \"training\":\n",
        "            excludes = load_list(\"validation_list.txt\") + load_list(\"testing_list.txt\")\n",
        "            excludes = set(excludes)\n",
        "            self._walker = [w for w in self._walker if w not in excludes]\n",
        "\n",
        "\n",
        "# Create training and testing split of the data. We do not use validation in this tutorial.\n",
        "train_set = SubsetSC(\"training\")\n",
        "test_set = SubsetSC(\"testing\")\n",
        "\n",
        "waveform, sample_rate, label, speaker_id, utterance_number = train_set[0]"
      ]
    },
    {
      "cell_type": "code",
      "execution_count": null,
      "id": "8ddd979c-fb54-40b1-8a35-57e4638322ab",
      "metadata": {
        "id": "8ddd979c-fb54-40b1-8a35-57e4638322ab",
        "outputId": "6432350e-e488-47c0-a537-ded4dffb0c3c"
      },
      "outputs": [
        {
          "name": "stdout",
          "output_type": "stream",
          "text": [
            "Shape of waveform: torch.Size([1, 16000])\n",
            "Sample rate of waveform: 16000\n"
          ]
        },
        {
          "data": {
            "image/png": "[encoded data removed]",
            "text/plain": [
              "<Figure size 640x480 with 1 Axes>"
            ]
          },
          "metadata": {},
          "output_type": "display_data"
        }
      ],
      "source": [
        "print(\"Shape of waveform: {}\".format(waveform.size()))\n",
        "print(\"Sample rate of waveform: {}\".format(sample_rate))\n",
        "\n",
        "plt.plot(waveform.t().numpy());"
      ]
    },
    {
      "cell_type": "code",
      "execution_count": null,
      "id": "34607283-d5f0-434d-ad19-e1c209c27e07",
      "metadata": {
        "id": "34607283-d5f0-434d-ad19-e1c209c27e07",
        "outputId": "cff4877d-0835-4b87-d766-b09b1552fe7a"
      },
      "outputs": [
        {
          "data": {
            "text/plain": [
              "['backward',\n",
              " 'bed',\n",
              " 'bird',\n",
              " 'cat',\n",
              " 'dog',\n",
              " 'down',\n",
              " 'eight',\n",
              " 'five',\n",
              " 'follow',\n",
              " 'forward',\n",
              " 'four',\n",
              " 'go',\n",
              " 'happy',\n",
              " 'house',\n",
              " 'learn',\n",
              " 'left',\n",
              " 'marvin',\n",
              " 'nine',\n",
              " 'no',\n",
              " 'off',\n",
              " 'on',\n",
              " 'one',\n",
              " 'right',\n",
              " 'seven',\n",
              " 'sheila',\n",
              " 'six',\n",
              " 'stop',\n",
              " 'three',\n",
              " 'tree',\n",
              " 'two',\n",
              " 'up',\n",
              " 'visual',\n",
              " 'wow',\n",
              " 'yes',\n",
              " 'zero']"
            ]
          },
          "execution_count": 6,
          "metadata": {},
          "output_type": "execute_result"
        }
      ],
      "source": [
        "labels = sorted(list(set(datapoint[2] for datapoint in train_set)))\n",
        "labels"
      ]
    },
    {
      "cell_type": "code",
      "execution_count": null,
      "id": "1afc3d52-b5c3-4529-83e0-782e7bcd9339",
      "metadata": {
        "id": "1afc3d52-b5c3-4529-83e0-782e7bcd9339"
      },
      "outputs": [],
      "source": [
        "# module transform ubtuk mengubah data suara menjadi MFCC dan dimensionality reduction dengan SVD\n",
        "class MFCC_SVD(nn.Module):\n",
        "    def __init__(self, out_channels = 20):\n",
        "        super().__init__()\n",
        "        self.out_channels = out_channels\n",
        "        self.mfcc = transforms.MFCC(sample_rate=16000)\n",
        "    def forward(self, waveform):\n",
        "        mfcc_signal = self.mfcc(waveform)\n",
        "        if mfcc_signal.shape[1] == 1:\n",
        "            mfcc_signal = torch.squeeze(mfcc_signal)\n",
        "        if mfcc_signal.shape[-1] > self.out_channels:\n",
        "            U, S, _ = torch.linalg.svd(mfcc_signal)\n",
        "            S = torch.diag_embed(S[:, :self.out_channels])\n",
        "            out = torch.bmm(U[:, :, :self.out_channels], S)\n",
        "        return out"
      ]
    },
    {
      "cell_type": "code",
      "execution_count": null,
      "id": "a7280a14-6a9a-43d4-95ea-5f24845123c6",
      "metadata": {
        "id": "a7280a14-6a9a-43d4-95ea-5f24845123c6",
        "outputId": "6cb9107f-3611-4c8a-958f-ba5bd65ff57f"
      },
      "outputs": [
        {
          "name": "stdout",
          "output_type": "stream",
          "text": [
            "torch.Size([1, 40, 20])\n"
          ]
        },
        {
          "name": "stderr",
          "output_type": "stream",
          "text": [
            "/opt/conda/envs/sainskom/lib/python3.10/site-packages/torchaudio/functional/functional.py:576: UserWarning: At least one mel filterbank has all zero values. The value for `n_mels` (128) may be set too high. Or, the value for `n_freqs` (201) may be set too low.\n",
            "  warnings.warn(\n"
          ]
        }
      ],
      "source": [
        "transform = MFCC_SVD()\n",
        "transformed = transform(waveform)\n",
        "print(transformed.shape)\n",
        "# MFCC and SVD final feature"
      ]
    },
    {
      "cell_type": "code",
      "execution_count": null,
      "id": "832767b4-5754-4294-9e51-8a274096d0de",
      "metadata": {
        "id": "832767b4-5754-4294-9e51-8a274096d0de",
        "outputId": "0e9c8021-a0ff-4c99-a239-531baf43e30f"
      },
      "outputs": [
        {
          "name": "stdout",
          "output_type": "stream",
          "text": [
            "yes --> tensor(33) --> yes\n"
          ]
        }
      ],
      "source": [
        "def label_to_index(word):\n",
        "    # Return the position of the word in labels\n",
        "    return torch.tensor(labels.index(word))\n",
        "\n",
        "\n",
        "def index_to_label(index):\n",
        "    # Return the word corresponding to the index in labels\n",
        "    # This is the inverse of label_to_index\n",
        "    return labels[index]\n",
        "\n",
        "\n",
        "word_start = \"yes\"\n",
        "index = label_to_index(word_start)\n",
        "word_recovered = index_to_label(index)\n",
        "\n",
        "print(word_start, \"-->\", index, \"-->\", word_recovered)"
      ]
    },
    {
      "cell_type": "code",
      "execution_count": null,
      "id": "b6be3827-fcf1-4b64-a753-449d21dd94c4",
      "metadata": {
        "id": "b6be3827-fcf1-4b64-a753-449d21dd94c4"
      },
      "outputs": [],
      "source": [
        "def pad_sequence(batch):\n",
        "    # Make all tensor in a batch the same length by padding with zeros\n",
        "    batch = [item.t() for item in batch]\n",
        "    batch = torch.nn.utils.rnn.pad_sequence(batch, batch_first=True, padding_value=0.)\n",
        "    return batch.permute(0, 2, 1)\n",
        "\n",
        "\n",
        "def collate_fn(batch):\n",
        "\n",
        "    # A data tuple has the form:\n",
        "    # waveform, sample_rate, label, speaker_id, utterance_number\n",
        "\n",
        "    tensors, targets = [], []\n",
        "\n",
        "    # Gather in lists, and encode labels as indices\n",
        "    for waveform, _, label, *_ in batch:\n",
        "        tensors += [waveform]\n",
        "        targets += [label_to_index(label)]\n",
        "\n",
        "    # Group the list of tensors into a batched tensor\n",
        "    tensors = pad_sequence(tensors)\n",
        "    targets = torch.stack(targets)\n",
        "\n",
        "    return tensors, targets\n",
        "\n",
        "\n",
        "batch_size = 256\n",
        "\n",
        "if device == \"cuda\":\n",
        "    num_workers = 1\n",
        "    pin_memory = True\n",
        "else:\n",
        "    num_workers = 0\n",
        "    pin_memory = False\n",
        "\n",
        "train_loader = torch.utils.data.DataLoader(\n",
        "    train_set,\n",
        "    batch_size=batch_size,\n",
        "    shuffle=True,\n",
        "    collate_fn=collate_fn,\n",
        "    num_workers=num_workers,\n",
        "    pin_memory=pin_memory,\n",
        ")\n",
        "test_loader = torch.utils.data.DataLoader(\n",
        "    test_set,\n",
        "    batch_size=batch_size,\n",
        "    shuffle=False,\n",
        "    drop_last=False,\n",
        "    collate_fn=collate_fn,\n",
        "    num_workers=num_workers,\n",
        "    pin_memory=pin_memory,\n",
        ")"
      ]
    },
    {
      "cell_type": "code",
      "execution_count": null,
      "id": "d1363bc7-3942-4926-a345-b85682ec8634",
      "metadata": {
        "id": "d1363bc7-3942-4926-a345-b85682ec8634",
        "outputId": "921d61ed-eda9-4894-afba-e19dae66b179"
      },
      "outputs": [
        {
          "name": "stdout",
          "output_type": "stream",
          "text": [
            "NeuralNetwork(\n",
            "  (flatten): Flatten(start_dim=1, end_dim=-1)\n",
            "  (linear_relu_stack): Sequential(\n",
            "    (0): Linear(in_features=800, out_features=512, bias=True)\n",
            "    (1): ReLU()\n",
            "    (2): Linear(in_features=512, out_features=512, bias=True)\n",
            "    (3): ReLU()\n",
            "    (4): Linear(in_features=512, out_features=35, bias=True)\n",
            "  )\n",
            ")\n",
            "Number of parameters: 690723\n"
          ]
        }
      ],
      "source": [
        "# ANN Architecture\n",
        "class NeuralNetwork(nn.Module):\n",
        "    def __init__(self, n_input, n_output):\n",
        "        super().__init__()\n",
        "        self.flatten = nn.Flatten()\n",
        "        self.linear_relu_stack = nn.Sequential(\n",
        "            nn.Linear(n_input, 512),\n",
        "            nn.ReLU(),\n",
        "            nn.Linear(512, 512),\n",
        "            nn.ReLU(),\n",
        "            nn.Linear(512, n_output),\n",
        "        )\n",
        "\n",
        "    def forward(self, x):\n",
        "        x = self.flatten(x)\n",
        "        out = self.linear_relu_stack(x)\n",
        "        return out\n",
        "\n",
        "model = NeuralNetwork(n_input=transformed.shape[1] * transformed.shape[2], n_output=len(labels))\n",
        "model.to(device)\n",
        "print(model)\n",
        "\n",
        "\n",
        "def count_parameters(model):\n",
        "    return sum(p.numel() for p in model.parameters() if p.requires_grad)\n",
        "\n",
        "\n",
        "n = count_parameters(model)\n",
        "print(\"Number of parameters: %s\" % n)"
      ]
    },
    {
      "cell_type": "code",
      "execution_count": null,
      "id": "2ba109a1-c4c0-488f-bcd9-bbe5c5e11fce",
      "metadata": {
        "id": "2ba109a1-c4c0-488f-bcd9-bbe5c5e11fce"
      },
      "outputs": [],
      "source": [
        "optimizer = optim.Adam(model.parameters(), lr=0.001, weight_decay=0.0001)\n",
        "scheduler = optim.lr_scheduler.StepLR(optimizer, step_size=5, gamma=0.1)  # reduce the learning after 20 epochs by a factor of 10\n",
        "loss_fn = torch.nn.CrossEntropyLoss()"
      ]
    },
    {
      "cell_type": "code",
      "execution_count": null,
      "id": "dd3b3764-ecbc-498d-80f6-db617be9cb41",
      "metadata": {
        "id": "dd3b3764-ecbc-498d-80f6-db617be9cb41"
      },
      "outputs": [],
      "source": [
        "def train(model, epoch, log_interval):\n",
        "    model.train()\n",
        "    for batch_idx, (data, target) in enumerate(train_loader):\n",
        "\n",
        "        data = data.to(device)\n",
        "        target = target.to(device)\n",
        "        data = transform(data)\n",
        "\n",
        "        # apply transform and model on whole batch directly on device\n",
        "        output = model(data)\n",
        "\n",
        "        # negative log-likelihood for a tensor of size (batch x 1 x n_output)\n",
        "        loss = loss_fn(output, target)\n",
        "\n",
        "        optimizer.zero_grad()\n",
        "        loss.backward()\n",
        "        optimizer.step()\n",
        "\n",
        "        # print training stats\n",
        "        if batch_idx % log_interval == 0:\n",
        "            print(f\"Train Epoch: {epoch} [{batch_idx * len(data)}/{len(train_loader.dataset)} ({100. * batch_idx / len(train_loader):.0f}%)]\\tLoss: {loss.item():.6f}\")\n",
        "\n",
        "        # update progress bar\n",
        "        # pbar.update(pbar_update)\n",
        "        # record loss\n",
        "        losses.append(loss.item())\n",
        "        lossLog.writerow([epoch, loss.item()])"
      ]
    },
    {
      "cell_type": "code",
      "execution_count": null,
      "id": "bf2ab819-2ac5-47a9-a84a-36c15ba07962",
      "metadata": {
        "id": "bf2ab819-2ac5-47a9-a84a-36c15ba07962"
      },
      "outputs": [],
      "source": [
        "def number_of_correct(pred, target):\n",
        "    # count number of correct predictions\n",
        "    return pred.squeeze().eq(target).sum().item()\n",
        "\n",
        "\n",
        "def get_likely_index(tensor):\n",
        "    # find most likely label index for each element in the batch\n",
        "    return tensor.argmax(dim=-1)\n",
        "\n",
        "\n",
        "def test(model, epoch):\n",
        "    model.eval()\n",
        "    correct = 0\n",
        "    for data, target in test_loader:\n",
        "\n",
        "        data = data.to(device)\n",
        "        target = target.to(device)\n",
        "\n",
        "        # apply transform and model on whole batch directly on device\n",
        "        data = transform(data)\n",
        "        output = model(data)\n",
        "\n",
        "        pred = get_likely_index(output)\n",
        "        correct += number_of_correct(pred, target)\n",
        "\n",
        "        # update progress bar\n",
        "        # pbar.update(pbar_update)\n",
        "    accLog.writerow([epoch, correct/len(test_loader.dataset) * 100.])\n",
        "\n",
        "    print(f\"\\nTest Epoch: {epoch}\\tAccuracy: {correct}/{len(test_loader.dataset)} ({100. * correct / len(test_loader.dataset):.0f}%)\\n\")"
      ]
    },
    {
      "cell_type": "code",
      "execution_count": null,
      "id": "247e898c-a282-468c-98f6-e2bfaae26a5b",
      "metadata": {
        "id": "247e898c-a282-468c-98f6-e2bfaae26a5b",
        "outputId": "6b6c0f05-d8c8-41d0-d7ca-a3ad9409c8f2"
      },
      "outputs": [
        {
          "name": "stdout",
          "output_type": "stream",
          "text": [
            "Train Epoch: 1 [0/84843 (0%)]\tLoss: 32.763786\n",
            "Train Epoch: 1 [25600/84843 (30%)]\tLoss: 2.438800\n",
            "Train Epoch: 1 [51200/84843 (60%)]\tLoss: 1.978521\n",
            "Train Epoch: 1 [76800/84843 (90%)]\tLoss: 1.744115\n",
            "\n",
            "Test Epoch: 1\tAccuracy: 5502/11005 (50%)\n",
            "\n",
            "Train Epoch: 2 [0/84843 (0%)]\tLoss: 1.531656\n",
            "Train Epoch: 2 [25600/84843 (30%)]\tLoss: 1.372594\n",
            "Train Epoch: 2 [51200/84843 (60%)]\tLoss: 1.544698\n",
            "Train Epoch: 2 [76800/84843 (90%)]\tLoss: 1.559744\n",
            "\n",
            "Test Epoch: 2\tAccuracy: 5955/11005 (54%)\n",
            "\n",
            "Train Epoch: 3 [0/84843 (0%)]\tLoss: 1.078527\n",
            "Train Epoch: 3 [25600/84843 (30%)]\tLoss: 1.068485\n",
            "Train Epoch: 3 [51200/84843 (60%)]\tLoss: 1.109488\n",
            "Train Epoch: 3 [76800/84843 (90%)]\tLoss: 1.291308\n",
            "\n",
            "Test Epoch: 3\tAccuracy: 6275/11005 (57%)\n",
            "\n",
            "Train Epoch: 4 [0/84843 (0%)]\tLoss: 0.826551\n",
            "Train Epoch: 4 [25600/84843 (30%)]\tLoss: 0.930547\n",
            "Train Epoch: 4 [51200/84843 (60%)]\tLoss: 1.030680\n",
            "Train Epoch: 4 [76800/84843 (90%)]\tLoss: 1.047500\n",
            "\n",
            "Test Epoch: 4\tAccuracy: 6399/11005 (58%)\n",
            "\n",
            "Train Epoch: 5 [0/84843 (0%)]\tLoss: 0.701832\n",
            "Train Epoch: 5 [25600/84843 (30%)]\tLoss: 0.776136\n",
            "Train Epoch: 5 [51200/84843 (60%)]\tLoss: 0.815137\n",
            "Train Epoch: 5 [76800/84843 (90%)]\tLoss: 0.739669\n",
            "\n",
            "Test Epoch: 5\tAccuracy: 6407/11005 (58%)\n",
            "\n",
            "Train Epoch: 6 [0/84843 (0%)]\tLoss: 0.452932\n",
            "Train Epoch: 6 [25600/84843 (30%)]\tLoss: 0.558424\n",
            "Train Epoch: 6 [51200/84843 (60%)]\tLoss: 0.575072\n",
            "Train Epoch: 6 [76800/84843 (90%)]\tLoss: 0.532881\n",
            "\n",
            "Test Epoch: 6\tAccuracy: 6658/11005 (60%)\n",
            "\n",
            "Train Epoch: 7 [0/84843 (0%)]\tLoss: 0.496388\n",
            "Train Epoch: 7 [25600/84843 (30%)]\tLoss: 0.447674\n",
            "Train Epoch: 7 [51200/84843 (60%)]\tLoss: 0.452551\n",
            "Train Epoch: 7 [76800/84843 (90%)]\tLoss: 0.478763\n",
            "\n",
            "Test Epoch: 7\tAccuracy: 6589/11005 (60%)\n",
            "\n",
            "Train Epoch: 8 [0/84843 (0%)]\tLoss: 0.383550\n",
            "Train Epoch: 8 [25600/84843 (30%)]\tLoss: 0.395900\n",
            "Train Epoch: 8 [51200/84843 (60%)]\tLoss: 0.372681\n",
            "Train Epoch: 8 [76800/84843 (90%)]\tLoss: 0.492033\n",
            "\n",
            "Test Epoch: 8\tAccuracy: 6582/11005 (60%)\n",
            "\n",
            "Train Epoch: 9 [0/84843 (0%)]\tLoss: 0.332014\n",
            "Train Epoch: 9 [25600/84843 (30%)]\tLoss: 0.340685\n",
            "Train Epoch: 9 [51200/84843 (60%)]\tLoss: 0.353055\n",
            "Train Epoch: 9 [76800/84843 (90%)]\tLoss: 0.348346\n",
            "\n",
            "Test Epoch: 9\tAccuracy: 6626/11005 (60%)\n",
            "\n",
            "Train Epoch: 10 [0/84843 (0%)]\tLoss: 0.280576\n",
            "Train Epoch: 10 [25600/84843 (30%)]\tLoss: 0.435780\n",
            "Train Epoch: 10 [51200/84843 (60%)]\tLoss: 0.336607\n",
            "Train Epoch: 10 [76800/84843 (90%)]\tLoss: 0.369065\n",
            "\n",
            "Test Epoch: 10\tAccuracy: 6589/11005 (60%)\n",
            "\n",
            "Train Epoch: 11 [0/84843 (0%)]\tLoss: 0.303936\n",
            "Train Epoch: 11 [25600/84843 (30%)]\tLoss: 0.293421\n",
            "Train Epoch: 11 [51200/84843 (60%)]\tLoss: 0.296043\n",
            "Train Epoch: 11 [76800/84843 (90%)]\tLoss: 0.300444\n",
            "\n",
            "Test Epoch: 11\tAccuracy: 6603/11005 (60%)\n",
            "\n",
            "Train Epoch: 12 [0/84843 (0%)]\tLoss: 0.337274\n",
            "Train Epoch: 12 [25600/84843 (30%)]\tLoss: 0.266756\n",
            "Train Epoch: 12 [51200/84843 (60%)]\tLoss: 0.350656\n",
            "Train Epoch: 12 [76800/84843 (90%)]\tLoss: 0.262284\n",
            "\n",
            "Test Epoch: 12\tAccuracy: 6591/11005 (60%)\n",
            "\n",
            "Train Epoch: 13 [0/84843 (0%)]\tLoss: 0.333073\n",
            "Train Epoch: 13 [25600/84843 (30%)]\tLoss: 0.220326\n",
            "Train Epoch: 13 [51200/84843 (60%)]\tLoss: 0.275693\n",
            "Train Epoch: 13 [76800/84843 (90%)]\tLoss: 0.219631\n",
            "\n",
            "Test Epoch: 13\tAccuracy: 6582/11005 (60%)\n",
            "\n",
            "Train Epoch: 14 [0/84843 (0%)]\tLoss: 0.259737\n",
            "Train Epoch: 14 [25600/84843 (30%)]\tLoss: 0.269155\n",
            "Train Epoch: 14 [51200/84843 (60%)]\tLoss: 0.339224\n",
            "Train Epoch: 14 [76800/84843 (90%)]\tLoss: 0.283829\n",
            "\n",
            "Test Epoch: 14\tAccuracy: 6604/11005 (60%)\n",
            "\n",
            "Train Epoch: 15 [0/84843 (0%)]\tLoss: 0.268476\n",
            "Train Epoch: 15 [25600/84843 (30%)]\tLoss: 0.295978\n",
            "Train Epoch: 15 [51200/84843 (60%)]\tLoss: 0.330929\n",
            "Train Epoch: 15 [76800/84843 (90%)]\tLoss: 0.340139\n",
            "\n",
            "Test Epoch: 15\tAccuracy: 6612/11005 (60%)\n",
            "\n"
          ]
        },
        {
          "data": {
            "image/png": "[encoded data removed]",
            "text/plain": [
              "<Figure size 640x480 with 1 Axes>"
            ]
          },
          "metadata": {},
          "output_type": "display_data"
        }
      ],
      "source": [
        "log_interval = 100\n",
        "n_epoch = 15\n",
        "\n",
        "pbar_update = 1 / (len(train_loader) + len(test_loader))\n",
        "losses = []\n",
        "\n",
        "# The transform needs to live on the same device as the model and the data.\n",
        "transform = transform.to(device)\n",
        "for epoch in range(1, n_epoch + 1):\n",
        "    train(model, epoch, log_interval)\n",
        "    test(model, epoch)\n",
        "    scheduler.step()\n",
        "\n",
        "# Let's plot the training loss versus the number of iteration.\n",
        "plt.plot(losses);\n",
        "plt.title(\"training loss\");"
      ]
    }
  ],
  "metadata": {
    "kernelspec": {
      "display_name": "sainskom",
      "language": "python",
      "name": "sainskom"
    },
    "language_info": {
      "codemirror_mode": {
        "name": "ipython",
        "version": 3
      },
      "file_extension": ".py",
      "mimetype": "text/x-python",
      "name": "python",
      "nbconvert_exporter": "python",
      "pygments_lexer": "ipython3",
      "version": "3.10.11"
    },
    "colab": {
      "provenance": []
    }
  },
  "nbformat": 4,
  "nbformat_minor": 5
}